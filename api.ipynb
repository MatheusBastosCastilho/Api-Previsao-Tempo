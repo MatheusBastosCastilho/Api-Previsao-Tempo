{
 "cells": [
  {
   "cell_type": "code",
   "execution_count": 16,
   "metadata": {},
   "outputs": [
    {
     "data": {
      "text/plain": [
       "{'local': 'Osasco',\n",
       " 'pais': 'BR',\n",
       " 'coordenadas': {'lon': -46.7917, 'lat': -23.5325},\n",
       " 'descrição': 'algumas nuvens',\n",
       " 'temperatura': 20}"
      ]
     },
     "metadata": {},
     "output_type": "display_data"
    }
   ],
   "source": [
    "import os \n",
    "from dotenv import load_dotenv\n",
    "from pathlib import Path\n",
    "import requests\n",
    "\n",
    "dotenv_path = Path('.env')\n",
    "\n",
    "load_dotenv(dotenv_path=dotenv_path)\n",
    "\n",
    "api_key = os.getenv('API_KEY')\n",
    "\n",
    "local = input('Qual o local a ser buscado?')\n",
    "\n",
    "api_link = f\"https://api.openweathermap.org/data/2.5/weather?q={local}&appid={api_key}&lang=pt_br\"\n",
    "\n",
    "requisition = requests.get(api_link)\n",
    "\n",
    "data = requisition.json()\n",
    "df = {\n",
    "    \"local\":data['name'],\n",
    "    \"pais\":data['sys']['country'],\n",
    "    \"coordenadas\":data['coord'],\n",
    "    \"descrição\":data['weather'][0]['description'],\n",
    "    \"temperatura\": round(data['main']['temp'] - 273.15)\n",
    "}\n",
    "display(df)"
   ]
  }
 ],
 "metadata": {
  "kernelspec": {
   "display_name": "Python 3",
   "language": "python",
   "name": "python3"
  },
  "language_info": {
   "codemirror_mode": {
    "name": "ipython",
    "version": 3
   },
   "file_extension": ".py",
   "mimetype": "text/x-python",
   "name": "python",
   "nbconvert_exporter": "python",
   "pygments_lexer": "ipython3",
   "version": "3.11.2"
  }
 },
 "nbformat": 4,
 "nbformat_minor": 2
}
